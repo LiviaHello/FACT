{
 "cells": [
  {
   "cell_type": "code",
   "execution_count": 1,
   "metadata": {},
   "outputs": [],
   "source": [
    "import torch\n",
    "import torch.nn as nn\n",
    "import torch.nn.functional as F\n",
    "import torch.optim as optim\n",
    "from torch.utils.data import TensorDataset, DataLoader\n",
    "\n",
    "import numpy as np\n",
    "import pandas as pd\n",
    "import pickle\n",
    "from collections import defaultdict\n",
    "from sklearn.metrics import roc_auc_score\n",
    "\n",
    "from utils import *\n",
    "from models import *\n",
    "from tqdm import tqdm\n",
    "\n",
    "import scipy.stats as stats\n",
    "\n",
    "import pdb\n",
    "import sys"
   ]
  },
  {
   "cell_type": "markdown",
   "metadata": {},
   "source": [
    "# Exploring the Electrinics Dataframe"
   ]
  },
  {
   "cell_type": "code",
   "execution_count": 2,
   "metadata": {},
   "outputs": [],
   "source": [
    "df = pd.read_csv('data/marketBias/data/df_electronics_original.csv') "
   ]
  },
  {
   "cell_type": "code",
   "execution_count": 3,
   "metadata": {},
   "outputs": [
    {
     "name": "stdout",
     "output_type": "stream",
     "text": [
      "<class 'pandas.core.frame.DataFrame'>\n",
      "RangeIndex: 1292954 entries, 0 to 1292953\n",
      "Data columns (total 10 columns):\n",
      " #   Column      Non-Null Count    Dtype  \n",
      "---  ------      --------------    -----  \n",
      " 0   item_id     1292954 non-null  int64  \n",
      " 1   user_id     1292954 non-null  int64  \n",
      " 2   rating      1292954 non-null  float64\n",
      " 3   timestamp   1292954 non-null  object \n",
      " 4   model_attr  1292954 non-null  object \n",
      " 5   category    1292954 non-null  object \n",
      " 6   brand       331120 non-null   object \n",
      " 7   year        1292954 non-null  int64  \n",
      " 8   user_attr   174124 non-null   object \n",
      " 9   split       1292954 non-null  int64  \n",
      "dtypes: float64(1), int64(4), object(5)\n",
      "memory usage: 98.6+ MB\n",
      "None\n",
      "            item_id       user_id        rating          year         split\n",
      "count  1.292954e+06  1.292954e+06  1.292954e+06  1.292954e+06  1.292954e+06\n",
      "mean   4.183588e+03  5.605127e+05  4.051482e+00  2.012938e+03  1.747587e-01\n",
      "std    2.525346e+03  3.342374e+05  1.379732e+00  2.643513e+00  5.506810e-01\n",
      "min    0.000000e+00  0.000000e+00  1.000000e+00  1.999000e+03  0.000000e+00\n",
      "25%    2.018000e+03  2.697482e+05  4.000000e+00  2.012000e+03  0.000000e+00\n",
      "50%    3.930000e+03  5.518920e+05  5.000000e+00  2.014000e+03  0.000000e+00\n",
      "75%    6.289000e+03  8.474858e+05  5.000000e+00  2.015000e+03  0.000000e+00\n",
      "max    9.559000e+03  1.157632e+06  5.000000e+00  2.018000e+03  2.000000e+00\n",
      "item_id         int64\n",
      "user_id         int64\n",
      "rating        float64\n",
      "timestamp      object\n",
      "model_attr     object\n",
      "category       object\n",
      "brand          object\n",
      "year            int64\n",
      "user_attr      object\n",
      "split           int64\n",
      "dtype: object\n",
      "Male      87424\n",
      "Female    86700\n",
      "Name: user_attr, dtype: int64\n"
     ]
    }
   ],
   "source": [
    "# Display the DataFrame's info\n",
    "print(df.info())\n",
    "\n",
    "# Display statistical summary of numerical columns\n",
    "print(df.describe())\n",
    "\n",
    "# Display data types of each column\n",
    "print(df.dtypes)\n",
    "\n",
    "# For a specific column, show how often each value occurs\n",
    "print(df['user_attr'].value_counts())"
   ]
  },
  {
   "cell_type": "code",
   "execution_count": 4,
   "metadata": {},
   "outputs": [
    {
     "name": "stdout",
     "output_type": "stream",
     "text": [
      "Female         481171\n",
      "Male           429715\n",
      "Female&Male    382068\n",
      "Name: model_attr, dtype: int64\n"
     ]
    }
   ],
   "source": [
    "print(df['model_attr'].value_counts())"
   ]
  },
  {
   "cell_type": "markdown",
   "metadata": {},
   "source": [
    "# Electronics Dataframe"
   ]
  },
  {
   "cell_type": "code",
   "execution_count": 5,
   "metadata": {},
   "outputs": [],
   "source": [
    "import pandas as pd\n",
    "import numpy as np\n",
    "import pickle\n",
    "\n",
    "# Load the CSV file\n",
    "df_electronics = pd.read_csv('data/marketBias/data/df_electronics.csv') "
   ]
  },
  {
   "cell_type": "markdown",
   "metadata": {},
   "source": [
    "Electronics is another review dataset collected from the Electronics\n",
    "category on Amazon with Clothing as an auxiliary category. This\n",
    "dataset is built on top of the public Amazon 2018 Dataset [24] and\n",
    "further processed to facilitate the research goals in this paper. We\n",
    "regard the gender as the target marketing bias on this dataset."
   ]
  },
  {
   "cell_type": "code",
   "execution_count": 6,
   "metadata": {},
   "outputs": [],
   "source": [
    "# Filter out rows where 'user_attr' is NaN\n",
    "df_electronics = df_electronics.dropna(subset=['user_attr'])"
   ]
  },
  {
   "cell_type": "code",
   "execution_count": 7,
   "metadata": {},
   "outputs": [
    {
     "name": "stdout",
     "output_type": "stream",
     "text": [
      "Female         65846\n",
      "Male           56870\n",
      "Female&Male    51408\n",
      "Name: model_attr, dtype: int64\n"
     ]
    }
   ],
   "source": [
    "print(df_electronics['model_attr'].value_counts())"
   ]
  },
  {
   "cell_type": "code",
   "execution_count": 8,
   "metadata": {},
   "outputs": [],
   "source": [
    "# Rename columns to match BPRTrainLoader expectations\n",
    "df_electronics.rename(columns={'user_id': 'userid', 'item_id': 'itemid', 'rating': 'rating', 'user_attr': 'gender'}, inplace=True)"
   ]
  },
  {
   "cell_type": "code",
   "execution_count": 9,
   "metadata": {},
   "outputs": [],
   "source": [
    "#Change rating to integers\n",
    "df_electronics['rating'] = df_electronics['rating'].astype(int)"
   ]
  },
  {
   "cell_type": "code",
   "execution_count": 10,
   "metadata": {},
   "outputs": [],
   "source": [
    "# Factorize User IDs\n",
    "# Convert 'userid' to range from 0 to n_users-1\n",
    "user_codes, unique_users = pd.factorize(df_electronics['userid'])\n",
    "\n",
    "# Apply the factorized user IDs back to the dataframe\n",
    "df_electronics['userid'] = user_codes\n",
    "\n",
    "# Factorize Item IDs\n",
    "# Convert 'itemid' to range from 0 to n_items-1\n",
    "item_codes, unique_items = pd.factorize(df_electronics['itemid'])\n",
    "\n",
    "# Apply the factorized item IDs back to the dataframe\n",
    "df_electronics['itemid'] = item_codes"
   ]
  },
  {
   "cell_type": "code",
   "execution_count": 11,
   "metadata": {},
   "outputs": [],
   "source": [
    "# Get number of users and number of items\n",
    "n_users = df_electronics['userid'].nunique()\n",
    "n_items = df_electronics['itemid'].nunique()"
   ]
  },
  {
   "cell_type": "code",
   "execution_count": 12,
   "metadata": {},
   "outputs": [
    {
     "name": "stdout",
     "output_type": "stream",
     "text": [
      "0 132392\n",
      "0 8187\n"
     ]
    }
   ],
   "source": [
    "# Check userid and itemid\n",
    "print(df_electronics['userid'].min(), df_electronics['userid'].max())\n",
    "print(df_electronics['itemid'].min(), df_electronics['itemid'].max())"
   ]
  },
  {
   "cell_type": "code",
   "execution_count": 13,
   "metadata": {},
   "outputs": [],
   "source": [
    "# Ensure the DataFrame is sorted by 'userid' to maintain order\n",
    "df_electronics = df_electronics.sort_values(by='userid').reset_index(drop=True)\n",
    "\n",
    "# Convert 'gender' column to a categorical type if it's not numeric\n",
    "if df_electronics['gender'].dtype == 'object':\n",
    "    df_electronics['gender'], _ = pd.factorize(df_electronics['gender'])"
   ]
  },
  {
   "cell_type": "code",
   "execution_count": 14,
   "metadata": {},
   "outputs": [
    {
     "name": "stdout",
     "output_type": "stream",
     "text": [
      "1    87424\n",
      "0    86700\n",
      "Name: gender, dtype: int64\n"
     ]
    }
   ],
   "source": [
    "counts = df_electronics['gender'].value_counts()\n",
    "print(counts)"
   ]
  },
  {
   "cell_type": "code",
   "execution_count": 15,
   "metadata": {},
   "outputs": [
    {
     "data": {
      "text/html": [
       "<div>\n",
       "<style scoped>\n",
       "    .dataframe tbody tr th:only-of-type {\n",
       "        vertical-align: middle;\n",
       "    }\n",
       "\n",
       "    .dataframe tbody tr th {\n",
       "        vertical-align: top;\n",
       "    }\n",
       "\n",
       "    .dataframe thead th {\n",
       "        text-align: right;\n",
       "    }\n",
       "</style>\n",
       "<table border=\"1\" class=\"dataframe\">\n",
       "  <thead>\n",
       "    <tr style=\"text-align: right;\">\n",
       "      <th></th>\n",
       "      <th>itemid</th>\n",
       "      <th>userid</th>\n",
       "      <th>rating</th>\n",
       "      <th>timestamp</th>\n",
       "      <th>model_attr</th>\n",
       "      <th>category</th>\n",
       "      <th>brand</th>\n",
       "      <th>year</th>\n",
       "      <th>gender</th>\n",
       "      <th>split</th>\n",
       "    </tr>\n",
       "  </thead>\n",
       "  <tbody>\n",
       "    <tr>\n",
       "      <th>0</th>\n",
       "      <td>0</td>\n",
       "      <td>0</td>\n",
       "      <td>2</td>\n",
       "      <td>1999-12-01</td>\n",
       "      <td>Female</td>\n",
       "      <td>Portable Audio &amp; Video</td>\n",
       "      <td>NaN</td>\n",
       "      <td>1999</td>\n",
       "      <td>0</td>\n",
       "      <td>0</td>\n",
       "    </tr>\n",
       "    <tr>\n",
       "      <th>1</th>\n",
       "      <td>323</td>\n",
       "      <td>0</td>\n",
       "      <td>4</td>\n",
       "      <td>2008-01-05</td>\n",
       "      <td>Female</td>\n",
       "      <td>Camera &amp; Photo</td>\n",
       "      <td>Gary Fong</td>\n",
       "      <td>2008</td>\n",
       "      <td>0</td>\n",
       "      <td>0</td>\n",
       "    </tr>\n",
       "    <tr>\n",
       "      <th>2</th>\n",
       "      <td>457</td>\n",
       "      <td>0</td>\n",
       "      <td>5</td>\n",
       "      <td>2008-10-30</td>\n",
       "      <td>Female</td>\n",
       "      <td>Camera &amp; Photo</td>\n",
       "      <td>NaN</td>\n",
       "      <td>2008</td>\n",
       "      <td>0</td>\n",
       "      <td>0</td>\n",
       "    </tr>\n",
       "    <tr>\n",
       "      <th>3</th>\n",
       "      <td>1218</td>\n",
       "      <td>0</td>\n",
       "      <td>5</td>\n",
       "      <td>2012-01-10</td>\n",
       "      <td>Female</td>\n",
       "      <td>Portable Audio &amp; Video</td>\n",
       "      <td>NaN</td>\n",
       "      <td>2011</td>\n",
       "      <td>0</td>\n",
       "      <td>0</td>\n",
       "    </tr>\n",
       "    <tr>\n",
       "      <th>4</th>\n",
       "      <td>1140</td>\n",
       "      <td>0</td>\n",
       "      <td>3</td>\n",
       "      <td>2012-03-15</td>\n",
       "      <td>Female</td>\n",
       "      <td>Camera &amp; Photo</td>\n",
       "      <td>Kodak</td>\n",
       "      <td>2011</td>\n",
       "      <td>0</td>\n",
       "      <td>0</td>\n",
       "    </tr>\n",
       "  </tbody>\n",
       "</table>\n",
       "</div>"
      ],
      "text/plain": [
       "   itemid  userid  rating   timestamp model_attr                category  \\\n",
       "0       0       0       2  1999-12-01     Female  Portable Audio & Video   \n",
       "1     323       0       4  2008-01-05     Female          Camera & Photo   \n",
       "2     457       0       5  2008-10-30     Female          Camera & Photo   \n",
       "3    1218       0       5  2012-01-10     Female  Portable Audio & Video   \n",
       "4    1140       0       3  2012-03-15     Female          Camera & Photo   \n",
       "\n",
       "       brand  year  gender  split  \n",
       "0        NaN  1999       0      0  \n",
       "1  Gary Fong  2008       0      0  \n",
       "2        NaN  2008       0      0  \n",
       "3        NaN  2011       0      0  \n",
       "4      Kodak  2011       0      0  "
      ]
     },
     "execution_count": 15,
     "metadata": {},
     "output_type": "execute_result"
    }
   ],
   "source": [
    "df_electronics.head()"
   ]
  },
  {
   "cell_type": "code",
   "execution_count": 16,
   "metadata": {},
   "outputs": [],
   "source": [
    "# Create item side features\n",
    "original_item_side_features = df_electronics[['itemid', 'model_attr', 'category', 'brand']].drop_duplicates()\n",
    "\n",
    "# Optionally, you might want to reset the index if you plan to work with this DataFrame directly\n",
    "original_item_side_features.reset_index(drop=True, inplace=True)\n"
   ]
  },
  {
   "cell_type": "code",
   "execution_count": 17,
   "metadata": {},
   "outputs": [
    {
     "data": {
      "text/html": [
       "<div>\n",
       "<style scoped>\n",
       "    .dataframe tbody tr th:only-of-type {\n",
       "        vertical-align: middle;\n",
       "    }\n",
       "\n",
       "    .dataframe tbody tr th {\n",
       "        vertical-align: top;\n",
       "    }\n",
       "\n",
       "    .dataframe thead th {\n",
       "        text-align: right;\n",
       "    }\n",
       "</style>\n",
       "<table border=\"1\" class=\"dataframe\">\n",
       "  <thead>\n",
       "    <tr style=\"text-align: right;\">\n",
       "      <th></th>\n",
       "      <th>itemid</th>\n",
       "      <th>model_attr</th>\n",
       "      <th>category</th>\n",
       "      <th>brand</th>\n",
       "    </tr>\n",
       "  </thead>\n",
       "  <tbody>\n",
       "    <tr>\n",
       "      <th>0</th>\n",
       "      <td>0</td>\n",
       "      <td>Female</td>\n",
       "      <td>Portable Audio &amp; Video</td>\n",
       "      <td>NaN</td>\n",
       "    </tr>\n",
       "    <tr>\n",
       "      <th>1</th>\n",
       "      <td>323</td>\n",
       "      <td>Female</td>\n",
       "      <td>Camera &amp; Photo</td>\n",
       "      <td>Gary Fong</td>\n",
       "    </tr>\n",
       "    <tr>\n",
       "      <th>2</th>\n",
       "      <td>457</td>\n",
       "      <td>Female</td>\n",
       "      <td>Camera &amp; Photo</td>\n",
       "      <td>NaN</td>\n",
       "    </tr>\n",
       "    <tr>\n",
       "      <th>3</th>\n",
       "      <td>1218</td>\n",
       "      <td>Female</td>\n",
       "      <td>Portable Audio &amp; Video</td>\n",
       "      <td>NaN</td>\n",
       "    </tr>\n",
       "    <tr>\n",
       "      <th>4</th>\n",
       "      <td>1140</td>\n",
       "      <td>Female</td>\n",
       "      <td>Camera &amp; Photo</td>\n",
       "      <td>Kodak</td>\n",
       "    </tr>\n",
       "  </tbody>\n",
       "</table>\n",
       "</div>"
      ],
      "text/plain": [
       "   itemid model_attr                category      brand\n",
       "0       0     Female  Portable Audio & Video        NaN\n",
       "1     323     Female          Camera & Photo  Gary Fong\n",
       "2     457     Female          Camera & Photo        NaN\n",
       "3    1218     Female  Portable Audio & Video        NaN\n",
       "4    1140     Female          Camera & Photo      Kodak"
      ]
     },
     "execution_count": 17,
     "metadata": {},
     "output_type": "execute_result"
    }
   ],
   "source": [
    "original_item_side_features.head()"
   ]
  },
  {
   "cell_type": "code",
   "execution_count": 18,
   "metadata": {},
   "outputs": [],
   "source": [
    "# Create user side features\n",
    "original_user_side_features = df_electronics[['userid', 'gender']].drop_duplicates()\n",
    "\n",
    "# Optionally, you might want to reset the index if you plan to work with this DataFrame directly\n",
    "#original_user_side_features.reset_index(drop=True, inplace=True)\n"
   ]
  },
  {
   "cell_type": "code",
   "execution_count": 19,
   "metadata": {},
   "outputs": [],
   "source": [
    "# Ensure the DataFrame is sorted by 'userid' to maintain order\n",
    "original_user_side_features = original_user_side_features.sort_values(by='userid').reset_index(drop=True)\n",
    "\n",
    "# Convert 'gender' column to a categorical type if it's not numeric\n",
    "if original_user_side_features['gender'].dtype == 'object':\n",
    "    original_user_side_features['gender'], _ = pd.factorize(original_user_side_features['gender'])"
   ]
  },
  {
   "cell_type": "code",
   "execution_count": 20,
   "metadata": {},
   "outputs": [
    {
     "data": {
      "text/html": [
       "<div>\n",
       "<style scoped>\n",
       "    .dataframe tbody tr th:only-of-type {\n",
       "        vertical-align: middle;\n",
       "    }\n",
       "\n",
       "    .dataframe tbody tr th {\n",
       "        vertical-align: top;\n",
       "    }\n",
       "\n",
       "    .dataframe thead th {\n",
       "        text-align: right;\n",
       "    }\n",
       "</style>\n",
       "<table border=\"1\" class=\"dataframe\">\n",
       "  <thead>\n",
       "    <tr style=\"text-align: right;\">\n",
       "      <th></th>\n",
       "      <th>userid</th>\n",
       "      <th>gender</th>\n",
       "    </tr>\n",
       "  </thead>\n",
       "  <tbody>\n",
       "    <tr>\n",
       "      <th>0</th>\n",
       "      <td>0</td>\n",
       "      <td>0</td>\n",
       "    </tr>\n",
       "    <tr>\n",
       "      <th>1</th>\n",
       "      <td>1</td>\n",
       "      <td>1</td>\n",
       "    </tr>\n",
       "    <tr>\n",
       "      <th>2</th>\n",
       "      <td>2</td>\n",
       "      <td>1</td>\n",
       "    </tr>\n",
       "    <tr>\n",
       "      <th>3</th>\n",
       "      <td>3</td>\n",
       "      <td>0</td>\n",
       "    </tr>\n",
       "    <tr>\n",
       "      <th>4</th>\n",
       "      <td>4</td>\n",
       "      <td>1</td>\n",
       "    </tr>\n",
       "  </tbody>\n",
       "</table>\n",
       "</div>"
      ],
      "text/plain": [
       "   userid  gender\n",
       "0       0       0\n",
       "1       1       1\n",
       "2       2       1\n",
       "3       3       0\n",
       "4       4       1"
      ]
     },
     "execution_count": 20,
     "metadata": {},
     "output_type": "execute_result"
    }
   ],
   "source": [
    "original_user_side_features.head()"
   ]
  },
  {
   "cell_type": "code",
   "execution_count": 21,
   "metadata": {},
   "outputs": [
    {
     "name": "stdout",
     "output_type": "stream",
     "text": [
      "0    71043\n",
      "1    61350\n",
      "Name: gender, dtype: int64\n"
     ]
    }
   ],
   "source": [
    "counts = original_user_side_features['gender'].value_counts()\n",
    "print(counts)"
   ]
  },
  {
   "cell_type": "code",
   "execution_count": 22,
   "metadata": {},
   "outputs": [],
   "source": [
    "# Create a dictionary of user side features (if needed in this format)\n",
    "user_side_features = {\n",
    "    'userid': original_user_side_features['userid'].values,\n",
    "    'gender': original_user_side_features['gender'].values,\n",
    "}"
   ]
  },
  {
   "cell_type": "code",
   "execution_count": 23,
   "metadata": {},
   "outputs": [],
   "source": [
    "from sklearn.model_selection import train_test_split\n",
    "\n",
    "# Splitting the data into training and testing sets\n",
    "train_df, test_df = train_test_split(df_electronics, test_size=0.2, random_state=42)"
   ]
  },
  {
   "cell_type": "code",
   "execution_count": 24,
   "metadata": {},
   "outputs": [],
   "source": [
    "# Initialize train_u2i and train_i2u as defaultdicts\n",
    "from collections import defaultdict\n",
    "\n",
    "train_u2i = defaultdict(list)\n",
    "train_i2u = defaultdict(list)\n",
    "test_u2i = defaultdict(list)\n",
    "test_i2u = defaultdict(list)\n",
    "\n",
    "# Populate train_u2i and train_i2u mappings (as before)\n",
    "for row in train_df.itertuples(index=False):\n",
    "    train_u2i[row.userid].append(row.itemid)\n",
    "    train_i2u[row.itemid].append(row.userid)\n",
    "\n",
    "for row in test_df.itertuples(index=False):\n",
    "    test_u2i[row.userid].append(row.itemid)\n",
    "    test_i2u[row.itemid].append(row.userid)\n"
   ]
  },
  {
   "cell_type": "code",
   "execution_count": 25,
   "metadata": {},
   "outputs": [],
   "source": [
    "# Convert train_df and test_df to the desired format before pickling\n",
    "train_set = {\n",
    "    'userid': train_df['userid'].values,\n",
    "    'itemid': train_df['itemid'].values,\n",
    "    'rating': train_df['rating'].values\n",
    "}\n",
    "\n",
    "test_set = {\n",
    "    'userid': test_df['userid'].values,\n",
    "    'itemid': test_df['itemid'].values,\n",
    "    'rating': test_df['rating'].values\n",
    "}"
   ]
  },
  {
   "cell_type": "code",
   "execution_count": 26,
   "metadata": {},
   "outputs": [
    {
     "data": {
      "text/plain": [
       "numpy.int64"
      ]
     },
     "execution_count": 26,
     "metadata": {},
     "output_type": "execute_result"
    }
   ],
   "source": [
    "type(train_set['rating'][0])"
   ]
  },
  {
   "cell_type": "code",
   "execution_count": 27,
   "metadata": {},
   "outputs": [
    {
     "name": "stdout",
     "output_type": "stream",
     "text": [
      "Data has been processed and saved to data/marketBias/process/process.pkl\n"
     ]
    }
   ],
   "source": [
    "import pickle\n",
    "\n",
    "data_to_pickle = {\n",
    "    'train_u2i': dict(train_u2i),\n",
    "    'test_u2i': dict(test_u2i),\n",
    "    'train_i2u': dict(train_i2u),\n",
    "    'test_i2u': dict(test_i2u),   \n",
    "    'train_set': train_df,\n",
    "    'test_set': test_df,\n",
    "    'user_side_features': user_side_features,\n",
    "    'n_users': df_electronics['userid'].nunique(),\n",
    "    'n_items': n_items\n",
    "}\n",
    "\n",
    "output_path = 'data/marketBias/process/process.pkl' \n",
    "with open(output_path, 'wb') as f:\n",
    "    pickle.dump(data_to_pickle, f)\n",
    "\n",
    "print(f\"Data has been processed and saved to {output_path}\")"
   ]
  },
  {
   "cell_type": "code",
   "execution_count": 28,
   "metadata": {},
   "outputs": [
    {
     "name": "stdout",
     "output_type": "stream",
     "text": [
      "Data has been processed and saved to data/marketBias/process/process.pkl\n"
     ]
    }
   ],
   "source": [
    "# Serialize the objects into a .pkl file\n",
    "output_path = 'data/marketBias/process/process.pkl' \n",
    "with open(output_path, 'wb') as f:\n",
    "    pickle.dump(train_u2i, f)\n",
    "    pickle.dump(train_i2u, f)\n",
    "    pickle.dump(test_u2i, f)\n",
    "    pickle.dump(test_i2u, f)\n",
    "    pickle.dump(train_set, f)\n",
    "    pickle.dump(test_set, f)\n",
    "    pickle.dump(user_side_features, f)\n",
    "    pickle.dump((n_users, n_items), f)\n",
    "\n",
    "print(f\"Data has been processed and saved to {output_path}\")\n"
   ]
  },
  {
   "cell_type": "code",
   "execution_count": 29,
   "metadata": {},
   "outputs": [],
   "source": [
    "##### load dataset\n",
    "with open('./data/marketBias/process/process.pkl', 'rb') as f:\n",
    "    train_u2i = pickle.load(f)\n",
    "    train_i2u = pickle.load(f)\n",
    "    test_u2i = pickle.load(f)\n",
    "    test_i2u = pickle.load(f)\n",
    "    train_set = pickle.load(f)\n",
    "    test_set = pickle.load(f)\n",
    "    user_side_features = pickle.load(f)\n",
    "    n_users, n_items = pickle.load(f)"
   ]
  },
  {
   "cell_type": "code",
   "execution_count": 30,
   "metadata": {},
   "outputs": [
    {
     "name": "stdout",
     "output_type": "stream",
     "text": [
      "110587\n",
      "7840\n",
      "<class 'dict'>\n",
      "139299\n",
      "Number of Users 132393\n",
      "Number of Items 8188\n",
      "Number of interactions: 174124\n",
      "Density 0.0001606259754146209\n",
      "Density percentage 0.01606259754146209\n",
      "userid\n",
      "gender\n"
     ]
    }
   ],
   "source": [
    "print(len(train_u2i))\n",
    "print(len(train_i2u))\n",
    "\n",
    "print(type(train_set))\n",
    "print(train_set['userid'].shape[0])\n",
    "print(f\"Number of Users {n_users}\")\n",
    "print(f\"Number of Items {n_items}\")\n",
    "\n",
    "# Number of Interactions\n",
    "# Calculating the number of interactions in the training set\n",
    "num_interactions_train = sum(len(items) for items in train_u2i.values())\n",
    "# Calculating the number of interactions in the testing set\n",
    "num_interactions_test = sum(len(items) for items in test_u2i.values())\n",
    "# Total interactions is the sum of interactions in both sets\n",
    "total_interactions = num_interactions_train + num_interactions_test\n",
    "\n",
    "print(f\"Number of interactions: {total_interactions}\")\n",
    "\n",
    "# Density\n",
    "# Density is calculated as the ratio of total interactions to the product of number of users and items\n",
    "density = total_interactions / (n_users * n_items)\n",
    "\n",
    "print(f\"Density {density}\")\n",
    "print(f\"Density percentage {density * 100}\")\n",
    "\n",
    "\n",
    "for feature_name in user_side_features.keys():\n",
    "    print(feature_name)\n",
    "\n"
   ]
  },
  {
   "cell_type": "code",
   "execution_count": null,
   "metadata": {},
   "outputs": [],
   "source": [
    "print(type(user_side_features['gender']))\n",
    "print(np.unique(user_side_features['gender'], return_counts=True))"
   ]
  },
  {
   "cell_type": "code",
   "execution_count": null,
   "metadata": {},
   "outputs": [],
   "source": [
    "print(train_set)"
   ]
  },
  {
   "cell_type": "code",
   "execution_count": null,
   "metadata": {},
   "outputs": [],
   "source": [
    "##### load dataset\n",
    "with open('./data/ml-1m/process/process.pkl', 'rb') as f:\n",
    "    MLtrain_u2i = pickle.load(f)\n",
    "    MLtrain_i2u = pickle.load(f)\n",
    "    MLtest_u2i = pickle.load(f)\n",
    "    MLtest_i2u = pickle.load(f)\n",
    "    MLtrain_set = pickle.load(f)\n",
    "    MLtest_set = pickle.load(f)\n",
    "    MLuser_side_features = pickle.load(f)\n",
    "    MLn_users, MLn_items = pickle.load(f)"
   ]
  },
  {
   "cell_type": "code",
   "execution_count": null,
   "metadata": {},
   "outputs": [],
   "source": [
    "type(MLuser_side_features)"
   ]
  },
  {
   "cell_type": "code",
   "execution_count": null,
   "metadata": {},
   "outputs": [],
   "source": [
    "print(MLtrain_set)\n"
   ]
  },
  {
   "cell_type": "code",
   "execution_count": null,
   "metadata": {},
   "outputs": [],
   "source": [
    "print(type(MLtrain_u2i))\n",
    "print(type(MLtrain_i2u))\n",
    "print(type(MLtest_u2i))\n",
    "print(type(MLtest_i2u))\n",
    "print(type(MLtrain_set))\n",
    "print(type(MLtest_set))\n",
    "print(type(MLuser_side_features))\n",
    "print(type(MLn_users))\n",
    "print(type(MLn_items))"
   ]
  },
  {
   "cell_type": "code",
   "execution_count": null,
   "metadata": {},
   "outputs": [],
   "source": [
    "type(MLtrain_set['rating'][0])"
   ]
  },
  {
   "cell_type": "code",
   "execution_count": null,
   "metadata": {},
   "outputs": [],
   "source": [
    "type(train_set['rating'][0])\n"
   ]
  },
  {
   "cell_type": "code",
   "execution_count": null,
   "metadata": {},
   "outputs": [],
   "source": [
    "import numpy as np\n",
    "\n",
    "def count_nan_in_dict(d):\n",
    "    count = 0\n",
    "    for key, value in d.items():\n",
    "        if isinstance(value, dict):\n",
    "            # If the value is a dictionary, recurse\n",
    "            count += count_nan_in_dict(value)\n",
    "        elif isinstance(value, (list, tuple, np.ndarray)):\n",
    "            # If the value is a list, tuple, or numpy array, iterate through it\n",
    "            count += sum(1 for item in value if item is np.nan or item != item)\n",
    "        else:\n",
    "            # Check if the value itself is NaN\n",
    "            if value is np.nan or value != value:\n",
    "                count += 1\n",
    "    return count\n",
    "\n",
    "nan_count = count_nan_in_dict(train_set)\n",
    "print(f\"Number of NaN values in the dictionary: {nan_count}\")"
   ]
  },
  {
   "cell_type": "code",
   "execution_count": null,
   "metadata": {},
   "outputs": [],
   "source": [
    "print(MLtrain_u2i[0])\n",
    "print(MLtrain_i2u[0])\n",
    "print(MLtest_u2i[0])\n",
    "print(MLtest_i2u[0])\n",
    "print(MLtrain_set)\n",
    "print(MLtest_set)\n",
    "print(MLuser_side_features)\n",
    "print(MLn_users)\n",
    "print(MLn_items)"
   ]
  },
  {
   "cell_type": "code",
   "execution_count": null,
   "metadata": {},
   "outputs": [],
   "source": [
    "print(MLtrain_set[\"itemid\"].max())\n",
    "print(MLtrain_set[\"userid\"].max())"
   ]
  },
  {
   "cell_type": "code",
   "execution_count": null,
   "metadata": {},
   "outputs": [],
   "source": [
    "MLtest_set[\"itemid\"].max()"
   ]
  },
  {
   "cell_type": "code",
   "execution_count": null,
   "metadata": {},
   "outputs": [],
   "source": [
    "for feature_name in MLuser_side_features.keys():\n",
    "    print(feature_name)"
   ]
  },
  {
   "cell_type": "code",
   "execution_count": null,
   "metadata": {},
   "outputs": [],
   "source": [
    "MLuser_side_features['userid']\n"
   ]
  },
  {
   "cell_type": "code",
   "execution_count": null,
   "metadata": {},
   "outputs": [],
   "source": [
    "count = 0\n",
    "for key, value in MLtrain_u2i.items():\n",
    "    if count < 10:\n",
    "        print(f\"key: {key}\", f\"value: {value}\")\n",
    "        count += 1\n",
    "    else:\n",
    "        \n",
    "        if key >= 6038:\n",
    "            print(f\"key: {key}\", f\"value: {value}\")\n"
   ]
  },
  {
   "cell_type": "code",
   "execution_count": null,
   "metadata": {},
   "outputs": [],
   "source": [
    "print(type(train_u2i))\n",
    "print(type(train_i2u))\n",
    "print(type(test_u2i))\n",
    "print(type(test_i2u))\n",
    "print(type(train_set))\n",
    "print(type(test_set))\n",
    "print(type(user_side_features))\n",
    "print(type(n_users))\n",
    "print(type(n_items))"
   ]
  },
  {
   "cell_type": "code",
   "execution_count": null,
   "metadata": {},
   "outputs": [],
   "source": [
    "print(\"train_u2i\")\n",
    "count = 0\n",
    "for key, value in train_u2i.items():\n",
    "    if count < 10:\n",
    "        print(key, value)\n",
    "        count += 1\n",
    "    else:\n",
    "        break\n",
    "\n",
    "print(\"train_i2u\")\n",
    "count = 0\n",
    "for key, value in train_i2u.items():\n",
    "    if count < 10:\n",
    "        print(key, value)\n",
    "        count += 1\n",
    "    else:\n",
    "        break\n",
    "\n",
    "print(\"test_u2i\")\n",
    "count = 0\n",
    "for key, value in test_u2i.items():\n",
    "    if count < 10:\n",
    "        print(key, value)\n",
    "        count += 1\n",
    "    else:\n",
    "        break\n",
    "    \n",
    "print(\"test_i2u\")\n",
    "count = 0\n",
    "for key, value in test_i2u.items():\n",
    "    if count < 10:\n",
    "        print(key, value)\n",
    "        count += 1\n",
    "    else:\n",
    "        break\n",
    "\n",
    "print(train_set)\n",
    "print(test_set)\n",
    "print(user_side_features)\n",
    "print(n_users)\n",
    "print(n_items)"
   ]
  },
  {
   "cell_type": "code",
   "execution_count": null,
   "metadata": {},
   "outputs": [],
   "source": []
  }
 ],
 "metadata": {
  "kernelspec": {
   "display_name": "Python 3",
   "language": "python",
   "name": "python3"
  },
  "language_info": {
   "codemirror_mode": {
    "name": "ipython",
    "version": 3
   },
   "file_extension": ".py",
   "mimetype": "text/x-python",
   "name": "python",
   "nbconvert_exporter": "python",
   "pygments_lexer": "ipython3",
   "version": "3.9.5"
  }
 },
 "nbformat": 4,
 "nbformat_minor": 4
}
